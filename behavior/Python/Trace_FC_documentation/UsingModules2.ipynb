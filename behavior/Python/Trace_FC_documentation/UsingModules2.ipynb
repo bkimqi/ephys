{
 "cells": [
  {
   "cell_type": "markdown",
   "metadata": {},
   "source": [
    "### Steps to follow before you start using modules:\n",
    "\n",
    "* Make sure your data folder has .xml and .eeg files.\n",
    "* Open the .eeg file in neuroscope and categorize bad recording channels as `skipped`. Similarly, mark any non-lfp channels as `discard` in neuroscope \n",
    "* Add `ModulesPath` to your pythonpath"
   ]
  },
  {
   "cell_type": "markdown",
   "metadata": {},
   "source": [
    "### Setting up\n",
    "Call the `processData` from `callfunc.py` in `ModulesPath`. The example below shows how to setup your base data folder."
   ]
  },
  {
   "cell_type": "code",
   "execution_count": null,
   "metadata": {},
   "outputs": [],
   "source": [
    "#%%\n",
    "import matplotlib as mpl\n",
    "import matplotlib.pyplot as plt\n",
    "import numpy as np\n",
    "import pandas as pd\n",
    "import scipy.stats as stats\n",
    "import seaborn as sns\n",
    "\n",
    "from callfunc import processData\n",
    "\n",
    "\n",
    "\n",
    "#%% Subjects\n",
    "basePath = [\n",
    "\n",
    "    \"/data/Clustering/SleepDeprivation/RatN/Day2/\",\n",
    "    \"/data/Clustering/SleepDeprivation/RatK/Day4/\"\n",
    "    \"/data/Clustering/SleepDeprivation/RatN/Day4/\"\n",
    "]\n",
    "\n",
    "\n",
    "sessions = [processData(_) for _ in baseP\n",
    "\n",
    "\n",
    "\n",
    "\n"
   ]
  },
  {
   "cell_type": "markdown",
   "metadata": {},
   "source": [
    "Let's say we are analyzing first session or path defined in `basePath`. So we write the following."
   ]
  },
  {
   "cell_type": "code",
   "execution_count": null,
   "metadata": {},
   "outputs": [],
   "source": [
    "sess = sessions[0]"
   ]
  },
  {
   "cell_type": "markdown",
   "metadata": {},
   "source": [
    "### Now call analyses\n",
    "If you are using an editor which supports autocomplete feature then you should see sub functions like below. As you see we have various primary attributes such as `artifact`, `decode`, `gamma` etc.\n",
    "![Example Image](images/session_example.png)\n",
    "\n",
    "Another example here showing secondary functions/attributes attached to `recinfo`. Here you find `badchans` (list of badchannels), `channels` (list of all lfp channels) and so on.\n",
    "![Example Image](images/recinfo_example.png)"
   ]
  },
  {
   "cell_type": "markdown",
   "metadata": {},
   "source": [
    "A small example how this is helpful. The code below calculates theta defining parameters for each session on channel `63`"
   ]
  },
  {
   "cell_type": "code",
   "execution_count": null,
   "metadata": {},
   "outputs": [],
   "source": [
    "\n",
    "for sub, sess in enumerate(sessions):\n",
    "    maze = sess.epochs.maze\n",
    "    channel = 63\n",
    "    lfpmaze = sess.recinfo.geteeg(chans=channel, timeRange=maze)\n",
    "    theta_params = sess.theta.getParams()\n",
    "    theta_angle = theta_params.angle\n",
    " \n"
   ]
  }
 ],
 "metadata": {
  "kernelspec": {
   "display_name": "Python 3",
   "language": "python",
   "name": "python3"
  },
  "language_info": {
   "codemirror_mode": {
    "name": "ipython",
    "version": 3
   },
   "file_extension": ".py",
   "mimetype": "text/x-python",
   "name": "python",
   "nbconvert_exporter": "python",
   "pygments_lexer": "ipython3",
   "version": "3.8.5"
  }
 },
 "nbformat": 4,
 "nbformat_minor": 4
}
