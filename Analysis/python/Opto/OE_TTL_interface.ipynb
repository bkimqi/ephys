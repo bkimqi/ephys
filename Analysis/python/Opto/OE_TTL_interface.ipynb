{
 "cells": [
  {
   "cell_type": "markdown",
   "metadata": {},
   "source": [
    "Code to simulate TTL events in a roundabout way when playing back data in Open Ephys.  Basic premise is to feed events and start times into an arduino which will relay these as TTLs to the acquisition system. Now that I think about this it probably won't work since the sink is the FileReader and I would need the TTL in to work!!! But maybe?"
   ]
  },
  {
   "cell_type": "code",
   "execution_count": 20,
   "metadata": {},
   "outputs": [],
   "source": [
    "import numpy\n",
    "import pyfirmata\n",
    "import atexit\n",
    "from pickle import load\n",
    "import numpy as np\n",
    "import time"
   ]
  },
  {
   "cell_type": "markdown",
   "metadata": {},
   "source": [
    "Import stimulation and recording time data!"
   ]
  },
  {
   "cell_type": "code",
   "execution_count": 6,
   "metadata": {},
   "outputs": [],
   "source": [
    "stim_times_file = r'C:\\Users\\nkinsky\\Documents\\Working\\Opto\\Jackie671\\Jackie_placestim_day2\\Jackie_PRE_2020-10-07_10-48-13\\stim_times_only.pkl'\n",
    "continuous_times_file = r'C:\\Users\\nkinsky\\Documents\\Working\\Opto\\Jackie671\\Jackie_placestim_day2\\Jackie_PRE_2020-10-07_10-48-13\\experiment1\\recording1\\continuous\\Intan_Rec._Controller-100.0\\timestamps.npy'\n",
    "\n",
    "stim_times = load(open(stim_times_file, 'rb'))\n",
    "cont_times = np.load(continuous_times_file)"
   ]
  },
  {
   "cell_type": "code",
   "execution_count": 19,
   "metadata": {},
   "outputs": [
    {
     "data": {
      "text/plain": [
       "array([351.156 , 361.508 , 397.1232, 400.0976, 403.1648, 406.2168,\n",
       "       410.4192, 421.0904, 426.0248, 430.6792])"
      ]
     },
     "execution_count": 19,
     "metadata": {},
     "output_type": "execute_result"
    }
   ],
   "source": [
    "stim_times['on_times'][0:10]"
   ]
  },
  {
   "cell_type": "markdown",
   "metadata": {},
   "source": [
    "Define some useful functions here for handling the arduino"
   ]
  },
  {
   "cell_type": "code",
   "execution_count": 24,
   "metadata": {},
   "outputs": [],
   "source": [
    "def initialize_arduino(\n",
    "    port=\"COM3\",\n",
    "    record_pin=7,\n",
    "    LED_pin=2):\n",
    "    \"\"\"20210202: No try/except for now because I want to see an error when setting things up for now!\n",
    "    Not sure shock_io_pin is entirely necessary - just send shock_box_pin to both shock box and open ephys\"\"\"\n",
    "    \n",
    "    print('Initializing arduino. Thank you for your patience!')\n",
    "    # try:\n",
    "    board = pyfirmata.Arduino(port)\n",
    "  \n",
    "    pins = {'record_pin' : record_pin, 'LED_pin' : LED_pin} \n",
    "\n",
    "    # initialize cleanup function\n",
    "    atexit.register(shutdown_arduino, board)\n",
    "    \n",
    "    return board, pins\n",
    "\n",
    "def shutdown_arduino(board):\n",
    "    \"\"\"cleanup function to shutdown arduino in case of suddent exit\"\"\"\n",
    "    if isinstance(board, pyfirmata.Arduino):\n",
    "        print(\"Shutting down arduino\")\n",
    "        board.exit()\n",
    "\n",
    "def pin_on(board, pin):\n",
    "    board.digital[pin].write(1)  # signal to shock box\n",
    "\n",
    "def pin_off(board, pin):\n",
    "    board.digital[pin].write(0)"
   ]
  },
  {
   "cell_type": "markdown",
   "metadata": {},
   "source": [
    "Load in `Jackie_placestim2` session to openephys GUI by selecting the `structure.oebin` file for the \"PRE\" session.  Then select option to remote trigger"
   ]
  },
  {
   "cell_type": "code",
   "execution_count": 34,
   "metadata": {},
   "outputs": [
    {
     "name": "stdout",
     "output_type": "stream",
     "text": [
      "Shutting down arduino\n",
      "Initializing arduino. Thank you for your patience!\n",
      "Shutting down arduino\n"
     ]
    }
   ],
   "source": [
    "shutdown_arduino(board)\n",
    "on = [0.5, 0.5, 0.5, 0.5]\n",
    "off = [0.5, 0.5, 0.5, 0.5]\n",
    "board, pins = initialize_arduino()\n",
    "pin_off(board, pins['LED_pin'])\n",
    "for a, b in zip(on, off):\n",
    "    pin_on(board, pins['LED_pin'])\n",
    "    time.sleep(a)\n",
    "    pin_off(board, pins['LED_pin'])\n",
    "    time.sleep(b)\n",
    "shutdown_arduino(board)"
   ]
  },
  {
   "cell_type": "markdown",
   "metadata": {},
   "source": [
    "Now run the following code to try to start the recording and then stop it 10 seconds later."
   ]
  },
  {
   "cell_type": "code",
   "execution_count": 36,
   "metadata": {},
   "outputs": [
    {
     "name": "stdout",
     "output_type": "stream",
     "text": [
      "Shutting down arduino\n",
      "Initializing arduino. Thank you for your patience!\n",
      "Starting in t minus 5 seconds\n",
      "Starting in t minus 4 seconds\n",
      "Starting in t minus 3 seconds\n",
      "Starting in t minus 2 seconds\n",
      "Starting in t minus 1 seconds\n",
      "Stopping in t minus 7 seconds\n",
      "Stopping in t minus 6 seconds\n",
      "Stopping in t minus 5 seconds\n",
      "Stopping in t minus 4 seconds\n",
      "Stopping in t minus 3 seconds\n",
      "Stopping in t minus 2 seconds\n",
      "Stopping in t minus 1 seconds\n"
     ]
    }
   ],
   "source": [
    "shutdown_arduino(board)\n",
    "board, pins = initialize_arduino()\n",
    "for sec in [5, 4, 3, 2, 1]:\n",
    "    print('Starting in t minus ' + str(sec) + ' seconds')\n",
    "    time.sleep(1)\n",
    "pin_on(board, pins['record_pin'])\n",
    "for sec in [7, 6, 5, 4, 3, 2, 1]:\n",
    "    print('Stopping in t minus ' + str(sec) + ' seconds')\n",
    "    time.sleep(1)\n",
    "pin_off(board, pins['record_pin'])"
   ]
  },
  {
   "cell_type": "markdown",
   "metadata": {},
   "source": [
    "Ok, this works but ONLY if I have already hit play. So I'll need to synchronize off of something else, actually.  Geesh."
   ]
  },
  {
   "cell_type": "markdown",
   "metadata": {},
   "source": [
    "When above is verified, try starting at 5 minutes using the following code:"
   ]
  },
  {
   "cell_type": "code",
   "execution_count": null,
   "metadata": {},
   "outputs": [],
   "source": [
    "OE_start_time = 5*60  # seconds"
   ]
  }
 ],
 "metadata": {
  "kernelspec": {
   "display_name": "Python 3",
   "language": "python",
   "name": "python3"
  },
  "language_info": {
   "codemirror_mode": {
    "name": "ipython",
    "version": 3
   },
   "file_extension": ".py",
   "mimetype": "text/x-python",
   "name": "python",
   "nbconvert_exporter": "python",
   "pygments_lexer": "ipython3",
   "version": "3.8.5"
  }
 },
 "nbformat": 4,
 "nbformat_minor": 4
}
